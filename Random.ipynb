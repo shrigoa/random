{
  "nbformat": 4,
  "nbformat_minor": 0,
  "metadata": {
    "colab": {
      "provenance": [],
      "authorship_tag": "ABX9TyPICE3ZWy+c+7yih9WyiwU1",
      "include_colab_link": true
    },
    "kernelspec": {
      "name": "python3",
      "display_name": "Python 3"
    },
    "language_info": {
      "name": "python"
    }
  },
  "cells": [
    {
      "cell_type": "markdown",
      "metadata": {
        "id": "view-in-github",
        "colab_type": "text"
      },
      "source": [
        "<a href=\"https://colab.research.google.com/github/shrigoa/random/blob/main/Random.ipynb\" target=\"_parent\"><img src=\"https://colab.research.google.com/assets/colab-badge.svg\" alt=\"Open In Colab\"/></a>"
      ]
    },
    {
      "cell_type": "markdown",
      "source": [
        "Problem:\n",
        "1. Manage internet bandwidth usage on a ship.\n",
        "\n",
        "Important data:\n",
        "1. Access to two communication links each contracted with 15TB of bandwidth for a month, thus, total of 30TB.\n",
        "\n",
        "Goals:\n",
        "1. Optimal usage: Bandwidth should be consumed only when required and minimized when not needed.\n",
        "2.a. Fairness Across Time: Quality of Experience (QoE) should be consistent across different timeslots.\n",
        "2.b. Significant variations — such as excellent QoE in some periods and poor QoE in others — must be inimized to avoid service quality alarms.\n",
        "2.c. Demand met percentage is the QoE. It should not vary much.\n",
        "\n",
        "Given Data:\n",
        "1. Per hour demand data for upstream and downstream traffic\n",
        "- Variations of 20-25% are possible\n",
        "- Columns: Time slots, downstream demand, upstream demand\n",
        "2. Ship arrival at ports\n",
        "- Variation of 1-2 hours earlier or later.\n",
        "- Demand drops 50% at port compared to sea.\n",
        "- Columns: Port, Arrival Time, Departure Time\n",
        "3. Link Downtime\n",
        "- One of the links will be unavailable on certain days.\n",
        "- This downtime must be configurable in the code.\n",
        "- During downtime, the algorithm must reserve enough bandwidth on the remaining active link to maintain stable QoE and avoid service degradation.\n",
        "4. Consumption Limits:\n",
        "- Each link supports maximum bandwidth of 500Mbps at any given point.\n",
        "- Bandwidth planning is done in 5 min time-slots.\n",
        "- Bandwidth volume (e.g., 1 GB in 5 minutes) will internally be converted into rate for enforcement.\n",
        "5. End of the month requirement:\n",
        "- Allocated 30TB should be completely used. (CONSTRAINT)\n",
        "- No under/over usage allowed.\n",
        "6. Objective:\n",
        "- Demand met percentage is the QoE (OBJECTIVE FUNCTION).\n",
        "- Needs to be as high as possible.\n",
        "\n",
        "7. Parameters:\n",
        "- Number of 5 mins slots per day: 288 slots\n",
        "- Number of slots per hour: 12 slots\n",
        "- Number of days: 30 days\n",
        "- Seconds in each slot:\n",
        "- Downtime start day: 19\n",
        "- Downtime end day: 27\n",
        "- Capacity per link: 15 TB\n",
        "- Number of links: 2\n",
        "- Number of links up during downtime: 1\n",
        "- Maximum bandwidth of any link: 500 Mbps\n",
        "\n",
        "7. Decision Variables\n",
        "- How much data is consumed in each 5 mins slot: data_consumed[day, hour, slot]\n",
        "\n",
        "8. Objective Function\n",
        "- demand[day, hour] - sum of data_consumed[day, hour, slot] over all slots for each day, for each hour data\n",
        "\n",
        "\n",
        "\n",
        "\n",
        "\n"
      ],
      "metadata": {
        "id": "4yb7y9ULYMOr"
      }
    },
    {
      "cell_type": "code",
      "source": [
        "#Import packages\n",
        "import numpy as np\n",
        "import pandas as pd\n",
        "import math\n",
        "import gurobipy as gp\n",
        "from gurobipy import GRB\n",
        "from datetime import datetime, timedelta"
      ],
      "metadata": {
        "id": "mOC-CrKdYLtH"
      },
      "execution_count": 1,
      "outputs": []
    },
    {
      "cell_type": "code",
      "source": [
        "#Parameters\n",
        "#Fixed Parameters\n",
        "hours_in_day = 24\n",
        "mins_in_hour = 60\n",
        "secs_in_min = 60\n",
        "\n",
        "#Configurable Parameters\n",
        "slot_mins = 5\n",
        "planning_start_date = datetime(2025, 5, 1)\n",
        "num_planning_days = 30\n",
        "active_links = 2\n",
        "cap_per_link = 15000000\n",
        "max_bandwidth_per_link = 500\n",
        "downtime_start_day = datetime(2025, 5, 20)\n",
        "downtime_end_day = datetime(2025, 5, 28)\n",
        "active_links_downtime = 1\n",
        "\n",
        "#Derived Parameters\n",
        "secs_in_hour = mins_in_hour * secs_in_min\n",
        "planning_end_date = planning_start_date + timedelta(days = num_planning_days - 1)\n",
        "seconds_in_slot = slot_mins * secs_in_min\n",
        "seconds_in_hour = mins_in_hour * secs_in_min\n",
        "slots_per_hour = mins_in_hour/slot_mins\n",
        "slots_per_day = slots_per_hour * hours_in_day\n",
        "\n",
        "max_data_per_slot_per_link = max_bandwidth_per_link * seconds_in_slot, active_links * cap_per_link\n",
        "max_data_per_hour_per_link = max_data_per_slot_per_link * slots_per_hour\n",
        "max_data_per_slot = max_data_per_slot_per_link * active_links\n",
        "max_data_per_hour = max_data_per_slot * slots_per_hour\n",
        "max_data_per_day = max_data_per_hour * hours_in_day\n",
        "downtime_start_day_num = (downtime_start_day - planning_start_date).days\n",
        "downtime_end_day_num = (downtime_end_day - planning_start_date).days\n",
        "total_cap = cap_per_link * active_links\n",
        "downtime_max_data_per_slot = max_data_per_slot_per_link * active_links_downtime\n",
        "downtime_max_data_per_hour = max_data_per_hour_per_link * active_links_downtime"
      ],
      "metadata": {
        "id": "1jSZyR1cvBrX"
      },
      "execution_count": 2,
      "outputs": []
    },
    {
      "cell_type": "code",
      "source": [
        "#Define Model\n",
        "env = gp.Env()\n",
        "env.setParam('OutputFlag', 0)\n",
        "mip = gp.Model('PlanningMIP', env = env)"
      ],
      "metadata": {
        "colab": {
          "base_uri": "https://localhost:8080/"
        },
        "id": "YBCZ1ec9yT16",
        "outputId": "02e4cb4e-58a4-477d-8e07-c45b30b5c63c"
      },
      "execution_count": 3,
      "outputs": [
        {
          "output_type": "stream",
          "name": "stdout",
          "text": [
            "Restricted license - for non-production use only - expires 2026-11-23\n"
          ]
        }
      ]
    },
    {
      "cell_type": "code",
      "source": [
        "#Decision Variables\n",
        "slot_consumption = {}\n",
        "hour_consumption = {}\n",
        "\n",
        "for day in range(num_planning_days):\n",
        "  for hour in range(hours_in_day):\n",
        "    max_available_data = downtime_max_data_per_hour if (day >= downtime_start_day_num and day <= downtime_end_day_num) else max_data_per_day\n",
        "    hour_consumption[day, hour] = mip.addVar(lb = 0, ub = max_available_data, vtype=GRB.CONTINUOUS, name = f'hour_consumption_{day}_{hour}')\n",
        "\n",
        "    # for slot in range(slots_per_day):\n",
        "    #   slot_consumption[day, hour, slot] = mip.addVar(lb = 0, ub = max_data_per_slot, vtype=GRB.CONTINUOUS, name = f'slot_consumption_{day}_{hour}_{slot}')"
      ],
      "metadata": {
        "colab": {
          "base_uri": "https://localhost:8080/",
          "height": 211
        },
        "id": "vTKZhxLy0IIY",
        "outputId": "204ea199-5588-4a4e-b923-feedb7e365e9"
      },
      "execution_count": 4,
      "outputs": [
        {
          "output_type": "error",
          "ename": "NameError",
          "evalue": "name 'downtime_max_data_per_day' is not defined",
          "traceback": [
            "\u001b[0;31m---------------------------------------------------------------------------\u001b[0m",
            "\u001b[0;31mNameError\u001b[0m                                 Traceback (most recent call last)",
            "\u001b[0;32m<ipython-input-4-e00b9983f88f>\u001b[0m in \u001b[0;36m<cell line: 0>\u001b[0;34m()\u001b[0m\n\u001b[1;32m      5\u001b[0m \u001b[0;32mfor\u001b[0m \u001b[0mday\u001b[0m \u001b[0;32min\u001b[0m \u001b[0mrange\u001b[0m\u001b[0;34m(\u001b[0m\u001b[0mnum_planning_days\u001b[0m\u001b[0;34m)\u001b[0m\u001b[0;34m:\u001b[0m\u001b[0;34m\u001b[0m\u001b[0;34m\u001b[0m\u001b[0m\n\u001b[1;32m      6\u001b[0m   \u001b[0;32mfor\u001b[0m \u001b[0mhour\u001b[0m \u001b[0;32min\u001b[0m \u001b[0mrange\u001b[0m\u001b[0;34m(\u001b[0m\u001b[0mhours_in_day\u001b[0m\u001b[0;34m)\u001b[0m\u001b[0;34m:\u001b[0m\u001b[0;34m\u001b[0m\u001b[0;34m\u001b[0m\u001b[0m\n\u001b[0;32m----> 7\u001b[0;31m     \u001b[0mmax_available_data\u001b[0m \u001b[0;34m=\u001b[0m \u001b[0mdowntime_max_data_per_day\u001b[0m \u001b[0;32mif\u001b[0m \u001b[0;34m(\u001b[0m\u001b[0mday\u001b[0m \u001b[0;34m>=\u001b[0m \u001b[0mdowntime_start_day_num\u001b[0m \u001b[0;32mand\u001b[0m \u001b[0mday\u001b[0m \u001b[0;34m<=\u001b[0m \u001b[0mdowntime_end_day_num\u001b[0m\u001b[0;34m)\u001b[0m \u001b[0;32melse\u001b[0m \u001b[0mmax_data_per_day\u001b[0m\u001b[0;34m\u001b[0m\u001b[0;34m\u001b[0m\u001b[0m\n\u001b[0m\u001b[1;32m      8\u001b[0m     \u001b[0mhour_consumption\u001b[0m\u001b[0;34m[\u001b[0m\u001b[0mday\u001b[0m\u001b[0;34m,\u001b[0m \u001b[0mhour\u001b[0m\u001b[0;34m]\u001b[0m \u001b[0;34m=\u001b[0m \u001b[0mmip\u001b[0m\u001b[0;34m.\u001b[0m\u001b[0maddVar\u001b[0m\u001b[0;34m(\u001b[0m\u001b[0mlb\u001b[0m \u001b[0;34m=\u001b[0m \u001b[0;36m0\u001b[0m\u001b[0;34m,\u001b[0m \u001b[0mub\u001b[0m \u001b[0;34m=\u001b[0m \u001b[0mmax_available_data\u001b[0m\u001b[0;34m,\u001b[0m \u001b[0mvtype\u001b[0m\u001b[0;34m=\u001b[0m\u001b[0mGRB\u001b[0m\u001b[0;34m.\u001b[0m\u001b[0mCONTINUOUS\u001b[0m\u001b[0;34m,\u001b[0m \u001b[0mname\u001b[0m \u001b[0;34m=\u001b[0m \u001b[0;34mf'hour_consumption_{day}_{hour}'\u001b[0m\u001b[0;34m)\u001b[0m\u001b[0;34m\u001b[0m\u001b[0;34m\u001b[0m\u001b[0m\n\u001b[1;32m      9\u001b[0m \u001b[0;34m\u001b[0m\u001b[0m\n",
            "\u001b[0;31mNameError\u001b[0m: name 'downtime_max_data_per_day' is not defined"
          ]
        }
      ]
    },
    {
      "cell_type": "code",
      "source": [
        "#Constraints\n",
        "\n",
        "#Total Capacity Constraint\n",
        "data_consumed_exp = gp.LinExpr()\n",
        "for day in range(num_planning_days):\n",
        "  for hour in range(hours_in_day):\n",
        "    data_consumed_exp += hour_consumption[day, hour]\n",
        "mip.addConstr(data_consumed_exp == total_cap, name=f'total data consumed')"
      ],
      "metadata": {
        "id": "FUIjBVIkzFB-"
      },
      "execution_count": null,
      "outputs": []
    },
    {
      "cell_type": "code",
      "source": [
        "#Objective\n",
        "mip.setObjective(data_consumed_exp, GRB.MAXIMIZE)"
      ],
      "metadata": {
        "id": "0MePvmfC2cf2"
      },
      "execution_count": null,
      "outputs": []
    },
    {
      "cell_type": "code",
      "source": [
        "#Solve Model\n",
        "mip.write('mip.lp')\n",
        "mip.optimize()"
      ],
      "metadata": {
        "id": "ujl_eS292eD5"
      },
      "execution_count": null,
      "outputs": []
    },
    {
      "cell_type": "code",
      "source": [
        "#Result\n",
        "if mip.status == GRB.OPTIMAL:\n",
        "  print(\"Found Optimal Solution!!\")\n",
        "  print(\"Obj\", mip.ObjVal)\n",
        "  '''for day in range(num_planning_days):\n",
        "    for hour in range(hours_in_day):\n",
        "      if hour_consumption[day, hour].X > 0:\n",
        "        print()'''\n",
        "        #print(day, hour, hour_consumption[day, hour].X)"
      ],
      "metadata": {
        "id": "4nCfItX73Ttp"
      },
      "execution_count": null,
      "outputs": []
    },
    {
      "cell_type": "code",
      "source": [],
      "metadata": {
        "id": "KXmEB3_E7iw-"
      },
      "execution_count": null,
      "outputs": []
    }
  ]
}