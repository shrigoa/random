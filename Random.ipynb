{
  "nbformat": 4,
  "nbformat_minor": 0,
  "metadata": {
    "colab": {
      "provenance": [],
      "authorship_tag": "ABX9TyN+OBpBltUtC5lrbPzTJQzl",
      "include_colab_link": true
    },
    "kernelspec": {
      "name": "python3",
      "display_name": "Python 3"
    },
    "language_info": {
      "name": "python"
    }
  },
  "cells": [
    {
      "cell_type": "markdown",
      "metadata": {
        "id": "view-in-github",
        "colab_type": "text"
      },
      "source": [
        "<a href=\"https://colab.research.google.com/github/shrigoa/random/blob/main/Random.ipynb\" target=\"_parent\"><img src=\"https://colab.research.google.com/assets/colab-badge.svg\" alt=\"Open In Colab\"/></a>"
      ]
    },
    {
      "cell_type": "markdown",
      "source": [
        "Problem:\n",
        "1. Manage internet bandwidth usage on a ship.\n",
        "\n",
        "Important data:\n",
        "1. Access to two communication links each contracted with 15TB of bandwidth for a month, thus, total of 30TB.\n",
        "\n",
        "Goals:\n",
        "1. Optimal usage: Bandwidth should be consumed only when required and minimized when not needed.\n",
        "2.a. Fairness Across Time: Quality of Experience (QoE) should be consistent across different timeslots.\n",
        "2.b. Significant variations — such as excellent QoE in some periods and poor QoE in others — must be inimized to avoid service quality alarms.\n",
        "2.c. Demand met percentage is the QoE. It should not vary much.\n",
        "\n",
        "Given Data:\n",
        "1. Per hour demand data for upstream and downstream traffic\n",
        "- Variations of 20-25% are possible\n",
        "- Columns: Time slots, downstream demand, upstream demand\n",
        "2. Ship arrival at ports\n",
        "- Variation of 1-2 hours earlier or later.\n",
        "- Demand drops 50% at port compared to sea.\n",
        "- Columns: Port, Arrival Time, Departure Time\n",
        "3. Link Downtime\n",
        "- One of the links will be unavailable on certain days.\n",
        "- This downtime must be configurable in the code.\n",
        "- During downtime, the algorithm must reserve enough bandwidth on the remaining active link to maintain stable QoE and avoid service degradation.\n",
        "4. Consumption Limits:\n",
        "- Each link supports maximum bandwidth of 500Mbps at any given point.\n",
        "- Bandwidth planning is done in 5 min time-slots.\n",
        "- Bandwidth volume (e.g., 1 GB in 5 minutes) will internally be converted into rate for enforcement.\n",
        "5. End of the month requirement:\n",
        "- Allocated 30TB should be completely used. (CONSTRAINT)\n",
        "- No under/over usage allowed.\n",
        "6. Objective:\n",
        "- Demand met percentage is the QoE (OBJECTIVE FUNCTION).\n",
        "- Needs to be as high as possible.\n",
        "\n",
        "7. Parameters:\n",
        "- Number of 5 mins slots per day: 288 slots\n",
        "- Number of slots per hour: 12 slots\n",
        "- Number of days: 30 days\n",
        "- Seconds in each slot:\n",
        "- Downtime start day: 19\n",
        "- Downtime end day: 27\n",
        "- Capacity per link: 15 TB\n",
        "- Number of links: 2\n",
        "- Number of links up during downtime: 1\n",
        "- Maximum bandwidth of any link: 500 Mbps\n",
        "\n",
        "7. Decision Variables\n",
        "- How much data is consumed in each 5 mins slot: data_consumed[day, hour, slot]\n",
        "\n",
        "8. Objective Function\n",
        "- demand[day, hour] - sum of data_consumed[day, hour, slot] over all slots for each day, for each hour data\n",
        "\n",
        "\n",
        "\n",
        "\n",
        "\n"
      ],
      "metadata": {
        "id": "4yb7y9ULYMOr"
      }
    },
    {
      "cell_type": "code",
      "source": [
        "#Import packages\n",
        "import numpy as np\n",
        "import pandas as pd\n",
        "import math\n",
        "import gurobipy as gp\n",
        "from gurobipy import GRB\n",
        "from datetime import datetime, timedelta"
      ],
      "metadata": {
        "id": "mOC-CrKdYLtH"
      },
      "execution_count": 14,
      "outputs": []
    },
    {
      "cell_type": "code",
      "source": [
        "#Parameters\n",
        "#Fixed Parameters\n",
        "hours_in_day = 24\n",
        "mins_in_hour = 60\n",
        "secs_in_min = 60\n",
        "\n",
        "#Configurable Parameters\n",
        "slot_mins = 5\n",
        "planning_start_date = datetime(2025, 5, 1)\n",
        "num_planning_days = 30\n",
        "active_links = 2\n",
        "cap_per_link = 15000000\n",
        "max_bandwidth_per_link = 500\n",
        "downtime_start_day = 19\n",
        "downtime_end_day = 27\n",
        "active_links_during_downtime = 1\n",
        "\n",
        "#Derived Parameters\n",
        "planning_end_date = planning_start_date + timedelta(days = num_planning_days - 1)\n",
        "seconds_in_slot = slot_mins * secs_in_min\n",
        "seconds_in_hour = mins_in_hour * secs_in_min\n",
        "slots_per_hour = mins_in_hour/slot_mins\n",
        "slots_per_day = int(slots_per_hour * hours_in_day)\n",
        "max_data_per_slot_per_link = max_bandwidth_per_link * seconds_in_slot\n",
        "max_data_per_slot = max_data_per_slot_per_link * active_links\n",
        "max_data_per_hour = max_data_per_slot * slots_per_hour"
      ],
      "metadata": {
        "colab": {
          "base_uri": "https://localhost:8080/"
        },
        "id": "1jSZyR1cvBrX",
        "outputId": "1a21bb5f-adcf-4c8b-9137-841d35e50335"
      },
      "execution_count": 18,
      "outputs": [
        {
          "output_type": "stream",
          "name": "stdout",
          "text": [
            "2025-05-01 00:00:00\n"
          ]
        }
      ]
    },
    {
      "cell_type": "code",
      "source": [
        "#Define Model\n",
        "env = gp.Env()\n",
        "env.setParam('OutputFlag', 0)\n",
        "mip = gp.Model('PlanningMIP', env = env)"
      ],
      "metadata": {
        "colab": {
          "base_uri": "https://localhost:8080/"
        },
        "id": "YBCZ1ec9yT16",
        "outputId": "2a7742a2-1ea6-4226-c344-09e45e874b1e"
      },
      "execution_count": 3,
      "outputs": [
        {
          "output_type": "stream",
          "name": "stdout",
          "text": [
            "Restricted license - for non-production use only - expires 2026-11-23\n"
          ]
        }
      ]
    },
    {
      "cell_type": "code",
      "source": [
        "#Decision Variables\n",
        "slot_consumption = {}\n",
        "hour_consumption = {}\n",
        "\n",
        "for day in range(num_planning_days):\n",
        "  for hour in range(hours_in_day):\n",
        "    hour_consumption[day, hour] = mip.addVar(lb = 0, ub = max_data_per_hour, vtype=GRB.CONTINUOUS, name = f'hour_consumption_{day}_{hour}')\n",
        "    # for slot in range(slots_per_day):\n",
        "    #   slot_consumption[day, hour, slot] = mip.addVar(lb = 0, ub = max_data_per_slot, vtype=GRB.CONTINUOUS, name = f'slot_consumption_{day}_{hour}_{slot}')"
      ],
      "metadata": {
        "id": "vTKZhxLy0IIY"
      },
      "execution_count": 4,
      "outputs": []
    },
    {
      "cell_type": "code",
      "source": [
        "#Constraints\n",
        "data_consumed_exp = gp.LinExpr()\n",
        "for day in range(num_planning_days):\n",
        "  for hour in range(hours_in_day):\n",
        "    data_consumed_exp += hour_consumption[day, hour]\n",
        "\n",
        "mip.addConstr(data_consumed_exp <= self.input_parameters.ann_bars_group1_monthly_max_cap,name=f'monthly_annealing_bars_grp1')"
      ],
      "metadata": {
        "id": "FUIjBVIkzFB-"
      },
      "execution_count": 5,
      "outputs": []
    },
    {
      "cell_type": "code",
      "source": [
        "#Objective\n",
        "mip.setObjective(data_consumed_exp, GRB.MAXIMIZE)"
      ],
      "metadata": {
        "id": "0MePvmfC2cf2"
      },
      "execution_count": 6,
      "outputs": []
    },
    {
      "cell_type": "code",
      "source": [
        "#Solve Model\n",
        "mip.write('mip.lp')\n",
        "mip.optimize()"
      ],
      "metadata": {
        "id": "ujl_eS292eD5"
      },
      "execution_count": 7,
      "outputs": []
    },
    {
      "cell_type": "code",
      "source": [
        "#Result\n",
        "if mip.status == GRB.OPTIMAL:\n",
        "  print(\"Found Optimal Solution!!\")\n",
        "  print(\"Obj\", mip.ObjVal)\n",
        "  '''for day in range(num_planning_days):\n",
        "    for hour in range(hours_in_day):\n",
        "      if hour_consumption[day, hour].X > 0:\n",
        "        print()'''\n",
        "        #print(day, hour, hour_consumption[day, hour].X)"
      ],
      "metadata": {
        "colab": {
          "base_uri": "https://localhost:8080/"
        },
        "id": "4nCfItX73Ttp",
        "outputId": "b35cd913-f3bd-4582-c3a1-08afc5e3bdbb"
      },
      "execution_count": 8,
      "outputs": [
        {
          "output_type": "stream",
          "name": "stdout",
          "text": [
            "Found Optimal Solution!!\n",
            "Obj 2592000000.0\n"
          ]
        }
      ]
    },
    {
      "cell_type": "code",
      "source": [],
      "metadata": {
        "id": "KXmEB3_E7iw-"
      },
      "execution_count": null,
      "outputs": []
    }
  ]
}