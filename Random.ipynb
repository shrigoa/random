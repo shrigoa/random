{
  "nbformat": 4,
  "nbformat_minor": 0,
  "metadata": {
    "colab": {
      "provenance": [],
      "authorship_tag": "ABX9TyOKo9/xLiFJPfU57WHcapt/",
      "include_colab_link": true
    },
    "kernelspec": {
      "name": "python3",
      "display_name": "Python 3"
    },
    "language_info": {
      "name": "python"
    }
  },
  "cells": [
    {
      "cell_type": "markdown",
      "metadata": {
        "id": "view-in-github",
        "colab_type": "text"
      },
      "source": [
        "<a href=\"https://colab.research.google.com/github/shrigoa/random/blob/main/Random.ipynb\" target=\"_parent\"><img src=\"https://colab.research.google.com/assets/colab-badge.svg\" alt=\"Open In Colab\"/></a>"
      ]
    },
    {
      "cell_type": "markdown",
      "source": [
        "Problem:\n",
        "1. Manage internet bandwidth usage on a ship.\n",
        "\n",
        "Important data:\n",
        "1. Access to two communication links each contracted with 15TB of bandwidth for a month, thus, total of 30TB.\n",
        "\n",
        "Goals:\n",
        "1. Optimal usage: Bandwidth should be consumed only when required and minimized when not needed.\n",
        "2.a. Fairness Across Time: Quality of Experience (QoE) should be consistent across different timeslots.\n",
        "2.b. Significant variations — such as excellent QoE in some periods and poor QoE in others — must be inimized to avoid service quality alarms.\n",
        "2.c. Demand met percentage is the QoE. It should not vary much.\n",
        "\n",
        "Given Data:\n",
        "1. Per hour demand data for upstream and downstream traffic\n",
        "- Variations of 20-25% are possible\n",
        "- Columns: Time slots, downstream demand, upstream demand\n",
        "2. Ship arrival at ports\n",
        "- Variation of 1-2 hours earlier or later.\n",
        "- Demand drops 50% at port compared to sea.\n",
        "- Columns: Port, Arrival Time, Departure Time\n",
        "3. Link Downtime\n",
        "- One of the links will be unavailable on certain days.\n",
        "- This downtime must be configurable in the code.\n",
        "- During downtime, the algorithm must reserve enough bandwidth on the remaining active link to maintain stable QoE and avoid service degradation.\n",
        "4. Consumption Limits:\n",
        "- Each link supports maximum bandwidth of 500Mbps at any given point.\n",
        "- Bandwidth planning is done in 5 min time-slots.\n",
        "- Bandwidth volume (e.g., 1 GB in 5 minutes) will internally be converted into rate for enforcement.\n",
        "5. End of the month requirement:\n",
        "- Allocated 30TB should be completely used. (CONSTRAINT)\n",
        "- No under/over usage allowed.\n",
        "6. Objective:\n",
        "- Demand met percentage is the QoE (OBJECTIVE FUNCTION).\n",
        "- Needs to be as high as possible.\n",
        "\n",
        "7. Parameters:\n",
        "- Number of 5 mins slots per day: 288 slots\n",
        "- Number of slots per hour: 12 slots\n",
        "- Number of days: 30 days\n",
        "- Seconds in each slot:\n",
        "- Downtime start day: 19\n",
        "- Downtime end day: 27\n",
        "- Capacity per link: 15 TB\n",
        "- Number of links: 2\n",
        "- Number of links up during downtime: 1\n",
        "- Maximum bandwidth of any link: 500 Mbps\n",
        "\n",
        "7. Decision Variables\n",
        "- How much data is consumed in each 5 mins slot: data_consumed[day, hour, slot]\n",
        "\n",
        "8. Objective Function\n",
        "- demand[day, hour] - sum of data_consumed[day, hour, slot] over all slots for each day, for each hour data\n",
        "\n",
        "\n",
        "\n",
        "\n",
        "\n"
      ],
      "metadata": {
        "id": "4yb7y9ULYMOr"
      }
    },
    {
      "cell_type": "code",
      "source": [
        "#Install packages\n",
        "!pip install gurobipy"
      ],
      "metadata": {
        "colab": {
          "base_uri": "https://localhost:8080/"
        },
        "id": "CrEFVRyqzn1k",
        "outputId": "70916cbd-f9eb-4296-b78a-328a7901313f"
      },
      "execution_count": 1,
      "outputs": [
        {
          "output_type": "stream",
          "name": "stdout",
          "text": [
            "Requirement already satisfied: gurobipy in /usr/local/lib/python3.11/dist-packages (12.0.1)\n"
          ]
        }
      ]
    },
    {
      "cell_type": "code",
      "source": [
        "#Import packages\n",
        "import warnings\n",
        "warnings.simplefilter(action='ignore', category=FutureWarning)\n",
        "\n",
        "import numpy as np\n",
        "import pandas as pd\n",
        "import math\n",
        "import gurobipy as gp\n",
        "from gurobipy import GRB\n",
        "from datetime import datetime, timedelta"
      ],
      "metadata": {
        "id": "mOC-CrKdYLtH"
      },
      "execution_count": 2,
      "outputs": []
    },
    {
      "cell_type": "code",
      "source": [
        "#Parameters\n",
        "#Fixed Parameters\n",
        "hours_in_day = 24\n",
        "mins_in_hour = 60\n",
        "secs_in_min = 60\n",
        "\n",
        "#Configurable Parameters\n",
        "slot_mins = 5\n",
        "planning_start_date = datetime(2025, 5, 1)\n",
        "num_planning_days = 30\n",
        "active_links = 2\n",
        "cap_per_link = 15000000\n",
        "max_bandwidth_per_link = 500\n",
        "downtime_start_day = datetime(2025, 5, 20)\n",
        "downtime_end_day = datetime(2025, 5, 28)\n",
        "active_links_downtime = 1\n",
        "\n",
        "#Derived Parameters\n",
        "secs_in_hour = mins_in_hour * secs_in_min\n",
        "planning_end_date = planning_start_date + timedelta(days = num_planning_days - 1)\n",
        "seconds_in_slot = slot_mins * secs_in_min\n",
        "seconds_in_hour = mins_in_hour * secs_in_min\n",
        "slots_per_hour = int(mins_in_hour/slot_mins)\n",
        "slots_per_day = int(slots_per_hour * hours_in_day)\n",
        "\n",
        "total_cap = cap_per_link * active_links\n",
        "total_cap_downtime = cap_per_link * active_links_downtime\n",
        "\n",
        "max_data_per_slot_per_link = max_bandwidth_per_link * seconds_in_slot\n",
        "max_data_per_hour_per_link = max_data_per_slot_per_link * slots_per_hour\n",
        "\n",
        "max_data_per_slot = max_data_per_slot_per_link * active_links\n",
        "max_data_per_hour = max_data_per_hour_per_link * active_links\n",
        "\n",
        "downtime_max_data_per_slot = max_data_per_slot_per_link * active_links_downtime\n",
        "downtime_max_data_per_hour = max_data_per_hour_per_link * active_links_downtime\n",
        "\n",
        "downtime_start_day_num = (downtime_start_day - planning_start_date).days\n",
        "downtime_end_day_num = (downtime_end_day - planning_start_date).days"
      ],
      "metadata": {
        "id": "1jSZyR1cvBrX"
      },
      "execution_count": 3,
      "outputs": []
    },
    {
      "cell_type": "code",
      "source": [
        "#Data Creation\n",
        "input_data_df = pd.DataFrame(columns = ['Day', 'Hour', 'Downstream Demand', 'Upstream Demand', 'Demand Met'])\n",
        "for day in range(num_planning_days):\n",
        "  for hour in range(hours_in_day):\n",
        "    input_data_df.loc[len(input_data_df)] = [day, hour, 2000, 0, 0]"
      ],
      "metadata": {
        "collapsed": true,
        "id": "H3V3zo9gQnnJ"
      },
      "execution_count": 4,
      "outputs": []
    },
    {
      "cell_type": "code",
      "source": [
        "#Define Model\n",
        "env = gp.Env()\n",
        "env.setParam('OutputFlag', 0)\n",
        "mip = gp.Model('PlanningMIP', env = env)"
      ],
      "metadata": {
        "colab": {
          "base_uri": "https://localhost:8080/"
        },
        "id": "YBCZ1ec9yT16",
        "outputId": "2c2e0f74-65f3-4b09-f4a1-7d1714684597"
      },
      "execution_count": 5,
      "outputs": [
        {
          "output_type": "stream",
          "name": "stdout",
          "text": [
            "Restricted license - for non-production use only - expires 2026-11-23\n"
          ]
        }
      ]
    },
    {
      "cell_type": "code",
      "source": [
        "#Decision Variables\n",
        "slot_consumption = {}\n",
        "hour_consumption = {}\n",
        "unmet_demand = {}\n",
        "\n",
        "for day in range(num_planning_days):\n",
        "  for hour in range(hours_in_day):\n",
        "    max_available_data = downtime_max_data_per_hour if (day >= downtime_start_day_num and day <= downtime_end_day_num) else max_data_per_hour\n",
        "    hour_consumption[day, hour] = mip.addVar(lb = 0, ub = max_available_data, vtype=GRB.CONTINUOUS, name = f'hour_consumption_{day}_{hour}')\n",
        "    unmet_demand[day, hour] = mip.addVar(lb = 0, ub = max_available_data, vtype=GRB.CONTINUOUS, name = f'unmet_demand_{day}_{hour}')\n",
        "\n",
        "    # for slot in range(slots_per_day):\n",
        "    #   slot_consumption[day, hour, slot] = mip.addVar(lb = 0, ub = max_data_per_slot, vtype=GRB.CONTINUOUS, name = f'slot_consumption_{day}_{hour}_{slot}')"
      ],
      "metadata": {
        "id": "vTKZhxLy0IIY"
      },
      "execution_count": 6,
      "outputs": []
    },
    {
      "cell_type": "code",
      "source": [
        "#Constraints\n",
        "\n",
        "#Demand Constraint\n",
        "for day in range(num_planning_days):\n",
        "  for hour in range(hours_in_day):\n",
        "    mip.addConstr(hour_consumption[day, hour] <= input_data_df[(input_data_df['Day'] == day) & (input_data_df['Hour'] == hour)]['Downstream Demand'], name=f'demand data')\n",
        "\n",
        "#Total Capacity Constraint\n",
        "data_consumed_exp = gp.LinExpr()\n",
        "for day in range(num_planning_days):\n",
        "  for hour in range(hours_in_day):\n",
        "    data_consumed_exp += hour_consumption[day, hour]\n",
        "mip.addConstr(data_consumed_exp == total_cap, name=f'total data consumed')\n",
        "\n",
        "#Maximum Capacity Allowed during Downtime\n",
        "downtime_data_consumed_exp = gp.LinExpr()\n",
        "for day in range(downtime_start_day_num, downtime_end_day_num + 1):\n",
        "  for hour in range(hours_in_day):\n",
        "    downtime_data_consumed_exp += hour_consumption[day, hour]\n",
        "mip.addConstr(downtime_data_consumed_exp <= total_cap_downtime, name=f'downtime data consumed')\n",
        "\n",
        "#Unmet Demand Constraint\n",
        "for day in range(num_planning_days):\n",
        "  for hour in range(hours_in_day):\n",
        "    mip.addLConstr(unmet_demand[day, hour] + hour_consumption[day, hour], GRB.GREATER_EQUAL, input_data_df[(input_data_df['Day'] == day) & (input_data_df['Hour'] == hour)]['Downstream Demand'], name=f'unmet demand constraint')\n",
        "\n"
      ],
      "metadata": {
        "id": "FUIjBVIkzFB-"
      },
      "execution_count": 7,
      "outputs": []
    },
    {
      "cell_type": "code",
      "source": [
        "#Objective\n",
        "unmet_demand_exp = gp.LinExpr()\n",
        "for day in range(num_planning_days):\n",
        "  for hour in range(hours_in_day):\n",
        "    unmet_demand_exp += (100 * (unmet_demand[day, hour]/input_data_df[(input_data_df['Day'] == day) & (input_data_df['Hour'] == hour)]['Downstream Demand']))\n",
        "mip.setObjective(unmet_demand_exp, GRB.MINIMIZE)"
      ],
      "metadata": {
        "id": "0MePvmfC2cf2"
      },
      "execution_count": 8,
      "outputs": []
    },
    {
      "cell_type": "code",
      "source": [
        "#Solve Model\n",
        "mip.write('mip.lp')\n",
        "mip.optimize()"
      ],
      "metadata": {
        "id": "ujl_eS292eD5"
      },
      "execution_count": 9,
      "outputs": []
    },
    {
      "cell_type": "code",
      "source": [
        "#Result\n",
        "if mip.status == GRB.OPTIMAL:\n",
        "  print(\"Found Optimal Solution!!\")\n",
        "  print(\"Objective\", mip.ObjVal)\n",
        "\n",
        "  counter = 0\n",
        "  for day in range(num_planning_days):\n",
        "    for hour in range(hours_in_day):\n",
        "      input_data_df.loc[counter, \"Demand Met\"] = hour_consumption[day, hour].X\n",
        "      counter += 1\n",
        "else:\n",
        "  print(\"Not Optimal\")"
      ],
      "metadata": {
        "colab": {
          "base_uri": "https://localhost:8080/"
        },
        "id": "4nCfItX73Ttp",
        "outputId": "d7283ce3-5c25-4061-8617-3daccbcc45f4"
      },
      "execution_count": 10,
      "outputs": [
        {
          "output_type": "stream",
          "name": "stdout",
          "text": [
            "Not Optimal\n"
          ]
        }
      ]
    },
    {
      "cell_type": "code",
      "source": [
        "#Write Output\n",
        "input_data_df.to_csv(\"Demand and Output.csv\")"
      ],
      "metadata": {
        "id": "KXmEB3_E7iw-"
      },
      "execution_count": 11,
      "outputs": []
    },
    {
      "cell_type": "code",
      "source": [
        "input_data_df['Demand Met'].sum()/1000000"
      ],
      "metadata": {
        "colab": {
          "base_uri": "https://localhost:8080/"
        },
        "id": "6gehTk2-aYkI",
        "outputId": "1c0275d9-a42b-46f4-b823-3f423b82f1bb"
      },
      "execution_count": 12,
      "outputs": [
        {
          "output_type": "execute_result",
          "data": {
            "text/plain": [
              "np.float64(0.0)"
            ]
          },
          "metadata": {},
          "execution_count": 12
        }
      ]
    },
    {
      "cell_type": "code",
      "source": [
        "input_data_df['Downstream Demand'].sum()/1000000"
      ],
      "metadata": {
        "colab": {
          "base_uri": "https://localhost:8080/"
        },
        "id": "btSiTw23acja",
        "outputId": "fe040425-6e0b-4f09-c0be-effa5c153a91"
      },
      "execution_count": 13,
      "outputs": [
        {
          "output_type": "execute_result",
          "data": {
            "text/plain": [
              "np.float64(1.44)"
            ]
          },
          "metadata": {},
          "execution_count": 13
        }
      ]
    },
    {
      "cell_type": "code",
      "source": [],
      "metadata": {
        "id": "6SQQW9PT1tqV"
      },
      "execution_count": 13,
      "outputs": []
    }
  ]
}